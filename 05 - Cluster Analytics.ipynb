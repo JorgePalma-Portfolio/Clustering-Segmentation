{
 "cells": [
  {
   "cell_type": "code",
   "execution_count": 1,
   "id": "96c2740c",
   "metadata": {},
   "outputs": [],
   "source": [
    "# Required Libraries\n",
    "from sklearn.metrics.pairwise import cosine_similarity\n",
    "import seaborn as sns\n",
    "import pickle\n",
    "import matplotlib.pyplot as plt"
   ]
  },
  {
   "cell_type": "code",
   "execution_count": 2,
   "id": "ee070536",
   "metadata": {},
   "outputs": [],
   "source": [
    "import pandas as pd\n",
    "import numpy as np\n",
    "\n",
    "import plotly.graph_objects as go\n",
    "\n",
    "seed = 58\n",
    "np.random.seed(seed)"
   ]
  },
  {
   "cell_type": "code",
   "execution_count": 3,
   "id": "5535ec0b",
   "metadata": {},
   "outputs": [],
   "source": [
    "# Input vector, returns nearest customer(s)\n",
    "def Cosine_Similarity(centroid,embeddedData,word_to_index,vocab_size,index_to_word,threshold):\n",
    "              \n",
    "    similarity_index = []\n",
    "    similarity_theta = []\n",
    "\n",
    "    for i in range(embeddedData.shape[0]):\n",
    "        \n",
    "        person = embeddedData.iloc[i,:]\n",
    "        \n",
    "        theta_sum = np.dot(centroid, person)\n",
    "        theta_den = np.linalg.norm(centroid) * np.linalg.norm(person)\n",
    "        theta = theta_sum / theta_den\n",
    "        \n",
    "        if theta >= threshold:\n",
    "            similarity_index.append(i)\n",
    "            similarity_theta.append(theta)\n",
    "        \n",
    "    return similarity_index, similarity_theta"
   ]
  },
  {
   "cell_type": "code",
   "execution_count": 4,
   "id": "76739018",
   "metadata": {},
   "outputs": [],
   "source": [
    "data      = pd.read_csv('data/data4analytics.csv')\n",
    "centroids = pd.read_csv('data/kmeans_centroids.csv')\n",
    "embeddedData = pd.read_csv('data/project_dataset.csv')"
   ]
  },
  {
   "cell_type": "code",
   "execution_count": 5,
   "id": "4e8b14ef",
   "metadata": {},
   "outputs": [],
   "source": [
    "with open('data/word_to_index_v3.pkl', 'rb') as fp:\n",
    "    word_to_index = pickle.load(fp)\n",
    "    \n",
    "with open('data/index_to_word_v3.pkl', 'rb') as fp:\n",
    "    index_to_word = pickle.load(fp)    "
   ]
  },
  {
   "cell_type": "code",
   "execution_count": 6,
   "id": "3502aa1c-b64e-4785-b250-0a2c9313f0f3",
   "metadata": {},
   "outputs": [],
   "source": [
    "VOCAB_SIZE = len(index_to_word)"
   ]
  },
  {
   "cell_type": "code",
   "execution_count": 7,
   "id": "54ec7543",
   "metadata": {},
   "outputs": [
    {
     "data": {
      "text/plain": [
       "(48842, 17)"
      ]
     },
     "execution_count": 7,
     "metadata": {},
     "output_type": "execute_result"
    }
   ],
   "source": [
    "data.shape"
   ]
  },
  {
   "cell_type": "code",
   "execution_count": 8,
   "id": "bb858bef-457b-4855-83c7-bd9c345adc59",
   "metadata": {},
   "outputs": [
    {
     "data": {
      "text/html": [
       "<div>\n",
       "<style scoped>\n",
       "    .dataframe tbody tr th:only-of-type {\n",
       "        vertical-align: middle;\n",
       "    }\n",
       "\n",
       "    .dataframe tbody tr th {\n",
       "        vertical-align: top;\n",
       "    }\n",
       "\n",
       "    .dataframe thead th {\n",
       "        text-align: right;\n",
       "    }\n",
       "</style>\n",
       "<table border=\"1\" class=\"dataframe\">\n",
       "  <thead>\n",
       "    <tr style=\"text-align: right;\">\n",
       "      <th></th>\n",
       "      <th>0</th>\n",
       "      <th>1</th>\n",
       "      <th>2</th>\n",
       "      <th>3</th>\n",
       "      <th>4</th>\n",
       "      <th>5</th>\n",
       "      <th>6</th>\n",
       "      <th>7</th>\n",
       "      <th>8</th>\n",
       "      <th>9</th>\n",
       "      <th>...</th>\n",
       "      <th>290</th>\n",
       "      <th>291</th>\n",
       "      <th>292</th>\n",
       "      <th>293</th>\n",
       "      <th>294</th>\n",
       "      <th>295</th>\n",
       "      <th>296</th>\n",
       "      <th>297</th>\n",
       "      <th>298</th>\n",
       "      <th>299</th>\n",
       "    </tr>\n",
       "  </thead>\n",
       "  <tbody>\n",
       "    <tr>\n",
       "      <th>0</th>\n",
       "      <td>0.079357</td>\n",
       "      <td>-0.013016</td>\n",
       "      <td>-0.064891</td>\n",
       "      <td>0.164042</td>\n",
       "      <td>0.109075</td>\n",
       "      <td>0.367152</td>\n",
       "      <td>0.616238</td>\n",
       "      <td>-0.041863</td>\n",
       "      <td>0.281724</td>\n",
       "      <td>-0.073042</td>\n",
       "      <td>...</td>\n",
       "      <td>-0.345417</td>\n",
       "      <td>-0.151840</td>\n",
       "      <td>-0.057761</td>\n",
       "      <td>0.085861</td>\n",
       "      <td>-0.157630</td>\n",
       "      <td>-0.150261</td>\n",
       "      <td>-0.007651</td>\n",
       "      <td>0.148380</td>\n",
       "      <td>0.031270</td>\n",
       "      <td>-0.303689</td>\n",
       "    </tr>\n",
       "    <tr>\n",
       "      <th>1</th>\n",
       "      <td>0.065084</td>\n",
       "      <td>0.079508</td>\n",
       "      <td>0.003485</td>\n",
       "      <td>0.211437</td>\n",
       "      <td>-0.006988</td>\n",
       "      <td>0.095358</td>\n",
       "      <td>0.383679</td>\n",
       "      <td>-0.199834</td>\n",
       "      <td>0.217875</td>\n",
       "      <td>-0.109475</td>\n",
       "      <td>...</td>\n",
       "      <td>-0.566354</td>\n",
       "      <td>0.038567</td>\n",
       "      <td>-0.029137</td>\n",
       "      <td>0.413811</td>\n",
       "      <td>-0.343286</td>\n",
       "      <td>0.103419</td>\n",
       "      <td>-0.532482</td>\n",
       "      <td>0.248444</td>\n",
       "      <td>-0.127649</td>\n",
       "      <td>-0.202146</td>\n",
       "    </tr>\n",
       "    <tr>\n",
       "      <th>2</th>\n",
       "      <td>0.286153</td>\n",
       "      <td>0.138509</td>\n",
       "      <td>0.249087</td>\n",
       "      <td>0.356722</td>\n",
       "      <td>0.252658</td>\n",
       "      <td>0.572814</td>\n",
       "      <td>0.591843</td>\n",
       "      <td>-0.075903</td>\n",
       "      <td>0.224935</td>\n",
       "      <td>0.083812</td>\n",
       "      <td>...</td>\n",
       "      <td>-0.218306</td>\n",
       "      <td>-0.345675</td>\n",
       "      <td>-0.438510</td>\n",
       "      <td>-0.031946</td>\n",
       "      <td>-0.494963</td>\n",
       "      <td>0.240659</td>\n",
       "      <td>-0.375938</td>\n",
       "      <td>0.171001</td>\n",
       "      <td>-0.018633</td>\n",
       "      <td>-0.470645</td>\n",
       "    </tr>\n",
       "    <tr>\n",
       "      <th>3</th>\n",
       "      <td>0.093605</td>\n",
       "      <td>0.349311</td>\n",
       "      <td>0.114927</td>\n",
       "      <td>0.341508</td>\n",
       "      <td>0.034264</td>\n",
       "      <td>0.494125</td>\n",
       "      <td>0.306043</td>\n",
       "      <td>-0.364169</td>\n",
       "      <td>0.197562</td>\n",
       "      <td>0.166602</td>\n",
       "      <td>...</td>\n",
       "      <td>-0.182497</td>\n",
       "      <td>-0.463281</td>\n",
       "      <td>-0.168950</td>\n",
       "      <td>0.161085</td>\n",
       "      <td>-0.201562</td>\n",
       "      <td>0.363891</td>\n",
       "      <td>-0.611611</td>\n",
       "      <td>0.347564</td>\n",
       "      <td>0.153640</td>\n",
       "      <td>-0.257974</td>\n",
       "    </tr>\n",
       "    <tr>\n",
       "      <th>4</th>\n",
       "      <td>-0.004717</td>\n",
       "      <td>0.531995</td>\n",
       "      <td>-0.112232</td>\n",
       "      <td>0.454440</td>\n",
       "      <td>-0.023014</td>\n",
       "      <td>0.034041</td>\n",
       "      <td>0.002723</td>\n",
       "      <td>0.185025</td>\n",
       "      <td>0.136317</td>\n",
       "      <td>0.324738</td>\n",
       "      <td>...</td>\n",
       "      <td>0.167132</td>\n",
       "      <td>-0.346875</td>\n",
       "      <td>0.210444</td>\n",
       "      <td>0.029913</td>\n",
       "      <td>-0.037009</td>\n",
       "      <td>-0.390999</td>\n",
       "      <td>0.053203</td>\n",
       "      <td>-0.082046</td>\n",
       "      <td>0.241039</td>\n",
       "      <td>-0.411027</td>\n",
       "    </tr>\n",
       "  </tbody>\n",
       "</table>\n",
       "<p>5 rows × 300 columns</p>\n",
       "</div>"
      ],
      "text/plain": [
       "          0         1         2         3         4         5         6  \\\n",
       "0  0.079357 -0.013016 -0.064891  0.164042  0.109075  0.367152  0.616238   \n",
       "1  0.065084  0.079508  0.003485  0.211437 -0.006988  0.095358  0.383679   \n",
       "2  0.286153  0.138509  0.249087  0.356722  0.252658  0.572814  0.591843   \n",
       "3  0.093605  0.349311  0.114927  0.341508  0.034264  0.494125  0.306043   \n",
       "4 -0.004717  0.531995 -0.112232  0.454440 -0.023014  0.034041  0.002723   \n",
       "\n",
       "          7         8         9  ...       290       291       292       293  \\\n",
       "0 -0.041863  0.281724 -0.073042  ... -0.345417 -0.151840 -0.057761  0.085861   \n",
       "1 -0.199834  0.217875 -0.109475  ... -0.566354  0.038567 -0.029137  0.413811   \n",
       "2 -0.075903  0.224935  0.083812  ... -0.218306 -0.345675 -0.438510 -0.031946   \n",
       "3 -0.364169  0.197562  0.166602  ... -0.182497 -0.463281 -0.168950  0.161085   \n",
       "4  0.185025  0.136317  0.324738  ...  0.167132 -0.346875  0.210444  0.029913   \n",
       "\n",
       "        294       295       296       297       298       299  \n",
       "0 -0.157630 -0.150261 -0.007651  0.148380  0.031270 -0.303689  \n",
       "1 -0.343286  0.103419 -0.532482  0.248444 -0.127649 -0.202146  \n",
       "2 -0.494963  0.240659 -0.375938  0.171001 -0.018633 -0.470645  \n",
       "3 -0.201562  0.363891 -0.611611  0.347564  0.153640 -0.257974  \n",
       "4 -0.037009 -0.390999  0.053203 -0.082046  0.241039 -0.411027  \n",
       "\n",
       "[5 rows x 300 columns]"
      ]
     },
     "execution_count": 8,
     "metadata": {},
     "output_type": "execute_result"
    }
   ],
   "source": [
    "embeddedData.head()"
   ]
  },
  {
   "cell_type": "code",
   "execution_count": 9,
   "id": "8f0a0a29-0d2d-40b4-baeb-b9e90c48da32",
   "metadata": {},
   "outputs": [
    {
     "data": {
      "text/plain": [
       "(2, 300)"
      ]
     },
     "execution_count": 9,
     "metadata": {},
     "output_type": "execute_result"
    }
   ],
   "source": [
    "centroids.shape"
   ]
  },
  {
   "cell_type": "code",
   "execution_count": 10,
   "id": "4cf6fb19",
   "metadata": {},
   "outputs": [],
   "source": [
    "cluster0 = centroids.iloc[0,:]\n",
    "cluster1 = centroids.iloc[1,:]"
   ]
  },
  {
   "cell_type": "code",
   "execution_count": 14,
   "id": "f22c52c5-8e2c-4ddc-894a-2982975904a4",
   "metadata": {},
   "outputs": [],
   "source": [
    "index, thetas = Cosine_Similarity(cluster0,embeddedData,word_to_index,VOCAB_SIZE,index_to_word,0.8)\n",
    "\n",
    "Similarity_cluster0 = []\n",
    "for idx in index:\n",
    "    Similarity_cluster0.append(data.iloc[idx,:])\n",
    "\n",
    "Similarity_cluster0 = pd.DataFrame(Similarity_cluster0)\n",
    "Similarity_cluster0['theta'] = thetas\n",
    "\n",
    "Similarity_cluster0 = Similarity_cluster0[Similarity_cluster0.cluster==0]\n",
    "\n",
    "Similarity_cluster0 = Similarity_cluster0.sort_values(by=['theta'],ascending=False).copy()"
   ]
  },
  {
   "cell_type": "code",
   "execution_count": 15,
   "id": "decdbe9c-fca8-4499-b0bc-e4d3dde90152",
   "metadata": {},
   "outputs": [],
   "source": [
    "Similarity_cluster0.to_csv(\"data/cluster0.csv\",index=False)"
   ]
  },
  {
   "cell_type": "code",
   "execution_count": 16,
   "id": "5d6cdd3c-0988-447b-aa57-0fc04e2a87f8",
   "metadata": {},
   "outputs": [],
   "source": [
    "index, thetas = Cosine_Similarity(cluster1,embeddedData,word_to_index,VOCAB_SIZE,index_to_word,0.8)\n",
    "\n",
    "Similarity_cluster1 = []\n",
    "for i in index:\n",
    "    Similarity_cluster1.append(data.iloc[i,:])\n",
    "\n",
    "Similarity_cluster1 = pd.DataFrame(Similarity_cluster1)\n",
    "Similarity_cluster1['theta'] = thetas\n",
    "\n",
    "Similarity_cluster1 = Similarity_cluster1[Similarity_cluster1.cluster==1]\n",
    "\n",
    "Similarity_cluster1 = Similarity_cluster1.sort_values(by=['theta'],ascending=False).copy()"
   ]
  },
  {
   "cell_type": "code",
   "execution_count": 17,
   "id": "17f00410-04ad-4c4a-9a9b-6af5f42798ad",
   "metadata": {},
   "outputs": [],
   "source": [
    "Similarity_cluster1.to_csv(\"data/cluster1.csv\",index=False)"
   ]
  },
  {
   "cell_type": "code",
   "execution_count": null,
   "id": "5c8dfb30-a95c-48c2-bae3-13951a3f262d",
   "metadata": {},
   "outputs": [],
   "source": []
  }
 ],
 "metadata": {
  "kernelspec": {
   "display_name": "Python 3 (ipykernel)",
   "language": "python",
   "name": "python3"
  },
  "language_info": {
   "codemirror_mode": {
    "name": "ipython",
    "version": 3
   },
   "file_extension": ".py",
   "mimetype": "text/x-python",
   "name": "python",
   "nbconvert_exporter": "python",
   "pygments_lexer": "ipython3",
   "version": "3.10.13"
  }
 },
 "nbformat": 4,
 "nbformat_minor": 5
}
