{
 "cells": [
  {
   "cell_type": "code",
   "execution_count": 6,
   "id": "ee070536",
   "metadata": {},
   "outputs": [],
   "source": [
    "seed = 22\n",
    "\n",
    "import pandas as pd\n",
    "import numpy as np\n",
    "\n",
    "from sklearn.cluster import KMeans\n",
    "\n",
    "from sklearn import metrics\n",
    "\n",
    "import matplotlib.pyplot as plt\n",
    "import sklearn.metrics as sklearn_metrics\n",
    "\n",
    "np.random.seed(seed)"
   ]
  },
  {
   "cell_type": "code",
   "execution_count": 7,
   "id": "3e9744e9",
   "metadata": {},
   "outputs": [],
   "source": [
    "def silhouette_score(X, labels):\n",
    "    \"\"\"Wrapper function of Scikit-learn's silhouette_score. The only difference is it doesn't throw an error where there is only one label.\"\"\"\n",
    "  \n",
    "    if len(set(labels)) == 1:\n",
    "        return float(\"NaN\")\n",
    "    else:\n",
    "        return sklearn_metrics.silhouette_score(X, labels)"
   ]
  },
  {
   "cell_type": "code",
   "execution_count": 8,
   "id": "909eea62",
   "metadata": {},
   "outputs": [],
   "source": [
    "data = pd.read_csv('data/project_dataset.csv',low_memory=False)"
   ]
  },
  {
   "cell_type": "code",
   "execution_count": 9,
   "id": "76739018",
   "metadata": {},
   "outputs": [
    {
     "data": {
      "text/html": [
       "<div>\n",
       "<style scoped>\n",
       "    .dataframe tbody tr th:only-of-type {\n",
       "        vertical-align: middle;\n",
       "    }\n",
       "\n",
       "    .dataframe tbody tr th {\n",
       "        vertical-align: top;\n",
       "    }\n",
       "\n",
       "    .dataframe thead th {\n",
       "        text-align: right;\n",
       "    }\n",
       "</style>\n",
       "<table border=\"1\" class=\"dataframe\">\n",
       "  <thead>\n",
       "    <tr style=\"text-align: right;\">\n",
       "      <th></th>\n",
       "      <th>0</th>\n",
       "      <th>1</th>\n",
       "      <th>2</th>\n",
       "      <th>3</th>\n",
       "      <th>4</th>\n",
       "      <th>5</th>\n",
       "      <th>6</th>\n",
       "      <th>7</th>\n",
       "      <th>8</th>\n",
       "      <th>9</th>\n",
       "      <th>...</th>\n",
       "      <th>290</th>\n",
       "      <th>291</th>\n",
       "      <th>292</th>\n",
       "      <th>293</th>\n",
       "      <th>294</th>\n",
       "      <th>295</th>\n",
       "      <th>296</th>\n",
       "      <th>297</th>\n",
       "      <th>298</th>\n",
       "      <th>299</th>\n",
       "    </tr>\n",
       "  </thead>\n",
       "  <tbody>\n",
       "    <tr>\n",
       "      <th>0</th>\n",
       "      <td>0.108420</td>\n",
       "      <td>0.629539</td>\n",
       "      <td>-0.320437</td>\n",
       "      <td>-0.120785</td>\n",
       "      <td>-0.398424</td>\n",
       "      <td>-0.202614</td>\n",
       "      <td>-0.456569</td>\n",
       "      <td>0.441789</td>\n",
       "      <td>0.004905</td>\n",
       "      <td>0.390798</td>\n",
       "      <td>...</td>\n",
       "      <td>0.543323</td>\n",
       "      <td>0.384518</td>\n",
       "      <td>0.567156</td>\n",
       "      <td>-0.225841</td>\n",
       "      <td>0.510636</td>\n",
       "      <td>-0.467787</td>\n",
       "      <td>0.475940</td>\n",
       "      <td>0.183181</td>\n",
       "      <td>-0.217281</td>\n",
       "      <td>0.573872</td>\n",
       "    </tr>\n",
       "    <tr>\n",
       "      <th>1</th>\n",
       "      <td>0.140912</td>\n",
       "      <td>0.693322</td>\n",
       "      <td>-0.343662</td>\n",
       "      <td>-0.100846</td>\n",
       "      <td>-0.476249</td>\n",
       "      <td>-0.184669</td>\n",
       "      <td>-0.343302</td>\n",
       "      <td>0.249432</td>\n",
       "      <td>-0.046037</td>\n",
       "      <td>0.261371</td>\n",
       "      <td>...</td>\n",
       "      <td>0.549115</td>\n",
       "      <td>0.190874</td>\n",
       "      <td>0.532151</td>\n",
       "      <td>-0.226447</td>\n",
       "      <td>0.441830</td>\n",
       "      <td>-0.336036</td>\n",
       "      <td>0.281762</td>\n",
       "      <td>0.113103</td>\n",
       "      <td>-0.257302</td>\n",
       "      <td>0.440154</td>\n",
       "    </tr>\n",
       "    <tr>\n",
       "      <th>2</th>\n",
       "      <td>0.111089</td>\n",
       "      <td>0.565909</td>\n",
       "      <td>-0.336946</td>\n",
       "      <td>-0.092571</td>\n",
       "      <td>-0.488653</td>\n",
       "      <td>-0.169434</td>\n",
       "      <td>-0.437786</td>\n",
       "      <td>0.367724</td>\n",
       "      <td>-0.059495</td>\n",
       "      <td>0.347600</td>\n",
       "      <td>...</td>\n",
       "      <td>0.650597</td>\n",
       "      <td>0.237244</td>\n",
       "      <td>0.533808</td>\n",
       "      <td>-0.128006</td>\n",
       "      <td>0.551713</td>\n",
       "      <td>-0.376537</td>\n",
       "      <td>0.404871</td>\n",
       "      <td>0.150581</td>\n",
       "      <td>-0.252151</td>\n",
       "      <td>0.390916</td>\n",
       "    </tr>\n",
       "    <tr>\n",
       "      <th>3</th>\n",
       "      <td>0.030166</td>\n",
       "      <td>0.629900</td>\n",
       "      <td>-0.345893</td>\n",
       "      <td>-0.094315</td>\n",
       "      <td>-0.487779</td>\n",
       "      <td>-0.001616</td>\n",
       "      <td>-0.499513</td>\n",
       "      <td>0.219282</td>\n",
       "      <td>-0.102872</td>\n",
       "      <td>0.259045</td>\n",
       "      <td>...</td>\n",
       "      <td>0.681445</td>\n",
       "      <td>0.174268</td>\n",
       "      <td>0.438605</td>\n",
       "      <td>-0.053265</td>\n",
       "      <td>0.590292</td>\n",
       "      <td>-0.373104</td>\n",
       "      <td>0.182493</td>\n",
       "      <td>0.180408</td>\n",
       "      <td>-0.437179</td>\n",
       "      <td>0.361505</td>\n",
       "    </tr>\n",
       "    <tr>\n",
       "      <th>4</th>\n",
       "      <td>0.182141</td>\n",
       "      <td>0.707768</td>\n",
       "      <td>-0.366220</td>\n",
       "      <td>0.265800</td>\n",
       "      <td>-0.658817</td>\n",
       "      <td>0.083475</td>\n",
       "      <td>-0.751077</td>\n",
       "      <td>0.418466</td>\n",
       "      <td>-0.124584</td>\n",
       "      <td>0.372935</td>\n",
       "      <td>...</td>\n",
       "      <td>0.396563</td>\n",
       "      <td>0.269146</td>\n",
       "      <td>0.356989</td>\n",
       "      <td>-0.162685</td>\n",
       "      <td>0.276632</td>\n",
       "      <td>-0.444224</td>\n",
       "      <td>0.275936</td>\n",
       "      <td>0.287429</td>\n",
       "      <td>-0.276891</td>\n",
       "      <td>0.390033</td>\n",
       "    </tr>\n",
       "  </tbody>\n",
       "</table>\n",
       "<p>5 rows × 300 columns</p>\n",
       "</div>"
      ],
      "text/plain": [
       "          0         1         2         3         4         5         6  \\\n",
       "0  0.108420  0.629539 -0.320437 -0.120785 -0.398424 -0.202614 -0.456569   \n",
       "1  0.140912  0.693322 -0.343662 -0.100846 -0.476249 -0.184669 -0.343302   \n",
       "2  0.111089  0.565909 -0.336946 -0.092571 -0.488653 -0.169434 -0.437786   \n",
       "3  0.030166  0.629900 -0.345893 -0.094315 -0.487779 -0.001616 -0.499513   \n",
       "4  0.182141  0.707768 -0.366220  0.265800 -0.658817  0.083475 -0.751077   \n",
       "\n",
       "          7         8         9  ...       290       291       292       293  \\\n",
       "0  0.441789  0.004905  0.390798  ...  0.543323  0.384518  0.567156 -0.225841   \n",
       "1  0.249432 -0.046037  0.261371  ...  0.549115  0.190874  0.532151 -0.226447   \n",
       "2  0.367724 -0.059495  0.347600  ...  0.650597  0.237244  0.533808 -0.128006   \n",
       "3  0.219282 -0.102872  0.259045  ...  0.681445  0.174268  0.438605 -0.053265   \n",
       "4  0.418466 -0.124584  0.372935  ...  0.396563  0.269146  0.356989 -0.162685   \n",
       "\n",
       "        294       295       296       297       298       299  \n",
       "0  0.510636 -0.467787  0.475940  0.183181 -0.217281  0.573872  \n",
       "1  0.441830 -0.336036  0.281762  0.113103 -0.257302  0.440154  \n",
       "2  0.551713 -0.376537  0.404871  0.150581 -0.252151  0.390916  \n",
       "3  0.590292 -0.373104  0.182493  0.180408 -0.437179  0.361505  \n",
       "4  0.276632 -0.444224  0.275936  0.287429 -0.276891  0.390033  \n",
       "\n",
       "[5 rows x 300 columns]"
      ]
     },
     "execution_count": 9,
     "metadata": {},
     "output_type": "execute_result"
    }
   ],
   "source": [
    "data.head()"
   ]
  },
  {
   "cell_type": "code",
   "execution_count": 14,
   "id": "3b384f58",
   "metadata": {},
   "outputs": [
    {
     "name": "stdout",
     "output_type": "stream",
     "text": [
      "For n_clusters = 2, silhouette score is: 0.1073\n",
      "For n_clusters = 3, silhouette score is: 0.0968\n",
      "For n_clusters = 4, silhouette score is: 0.0872\n",
      "For n_clusters = 5, silhouette score is: 0.0902\n",
      "For n_clusters = 6, silhouette score is: 0.0668\n"
     ]
    }
   ],
   "source": [
    "# find optimal K using silhouette scores\n",
    "silhouette_scores = []\n",
    "\n",
    "K = [2, 3, 4, 5, 6]\n",
    "for n_clusters in K:\n",
    "    kmeans = KMeans(init=\"random\",n_clusters=n_clusters, random_state=seed, n_init=20, max_iter=500)\n",
    "    cluster_labels = kmeans.fit_predict(data)\n",
    "\n",
    "    # Compute silhouette scores\n",
    "    #silhouette_avg = silhouette_score(data, cluster_labels,  metric=\"euclidean\",sample_size=500)\n",
    "\n",
    "    silhouette_avg = metrics.silhouette_score(data, cluster_labels,  metric=\"euclidean\",sample_size=500)\n",
    "    \n",
    "    print(f\"For n_clusters = {n_clusters}, silhouette score is: {silhouette_avg:.4f}\")\n",
    "    \n",
    "    silhouette_scores.append(silhouette_avg)"
   ]
  },
  {
   "cell_type": "code",
   "execution_count": 15,
   "id": "1c64f7bd",
   "metadata": {},
   "outputs": [
    {
     "data": {
      "image/png": "[encoded data removed]",
      "text/plain": [
       "<Figure size 640x480 with 1 Axes>"
      ]
     },
     "metadata": {},
     "output_type": "display_data"
    }
   ],
   "source": [
    "plt.plot(K, silhouette_scores, 'bx-')\n",
    "plt.xlabel('No. of clusters')\n",
    "plt.ylabel('Silhouette scores')\n",
    "plt.title('Silhouette Method For Optimal k')\n",
    "plt.show()"
   ]
  },
  {
   "cell_type": "code",
   "execution_count": 16,
   "id": "bd1540a4",
   "metadata": {},
   "outputs": [],
   "source": [
    "best_k = np.nanargmax(silhouette_scores)+2"
   ]
  },
  {
   "cell_type": "code",
   "execution_count": 17,
   "id": "e0097d7c",
   "metadata": {},
   "outputs": [
    {
     "name": "stdout",
     "output_type": "stream",
     "text": [
      "The best K value for silhouette method is: 2\n"
     ]
    }
   ],
   "source": [
    "print(\"The best K value for silhouette method is:\",best_k)"
   ]
  },
  {
   "cell_type": "code",
   "execution_count": 18,
   "id": "449d8d7e",
   "metadata": {},
   "outputs": [],
   "source": [
    "kmeans = KMeans(n_clusters=best_k, random_state=seed, n_init=20, max_iter=500).fit(data)"
   ]
  },
  {
   "cell_type": "code",
   "execution_count": 19,
   "id": "6236b99f",
   "metadata": {},
   "outputs": [],
   "source": [
    "clustered_data =  pd.DataFrame()\n",
    "clustered_data['cluster'] = pd.Categorical(kmeans.labels_)"
   ]
  },
  {
   "cell_type": "code",
   "execution_count": 20,
   "id": "9dcbb3e1-a45d-4ab9-8dd1-62e13887b671",
   "metadata": {},
   "outputs": [],
   "source": [
    "clustered_data = clustered_data.reset_index()\n",
    "clustered_data = clustered_data.rename(columns={\"index\":\"index\"})"
   ]
  },
  {
   "cell_type": "code",
   "execution_count": 21,
   "id": "3dd06406",
   "metadata": {},
   "outputs": [],
   "source": [
    "clustered_data.to_csv('data/cluster_index_KMeans.csv',index=False)"
   ]
  },
  {
   "cell_type": "code",
   "execution_count": 22,
   "id": "9460e595",
   "metadata": {},
   "outputs": [],
   "source": [
    "centroids = pd.DataFrame(kmeans.cluster_centers_)"
   ]
  },
  {
   "cell_type": "code",
   "execution_count": 23,
   "id": "f58478c7",
   "metadata": {},
   "outputs": [],
   "source": [
    "cols = [*range(300)]\n",
    "cols = map(str, cols)\n",
    "cols = list(cols)\n",
    "cols = map(lambda c : 'col'+c,cols)\n",
    "cols = list(cols)"
   ]
  },
  {
   "cell_type": "code",
   "execution_count": 24,
   "id": "0062a81f",
   "metadata": {},
   "outputs": [],
   "source": [
    "centroids.columns=cols"
   ]
  },
  {
   "cell_type": "code",
   "execution_count": 25,
   "id": "a00469cd",
   "metadata": {},
   "outputs": [],
   "source": [
    "centroids.to_csv('data/kmeans_centroids.csv',index=False)"
   ]
  },
  {
   "cell_type": "code",
   "execution_count": null,
   "id": "d7bca4c1-6042-433e-ab5e-4e98d1b0fa14",
   "metadata": {},
   "outputs": [],
   "source": []
  }
 ],
 "metadata": {
  "kernelspec": {
   "display_name": "Python 3 (ipykernel)",
   "language": "python",
   "name": "python3"
  },
  "language_info": {
   "codemirror_mode": {
    "name": "ipython",
    "version": 3
   },
   "file_extension": ".py",
   "mimetype": "text/x-python",
   "name": "python",
   "nbconvert_exporter": "python",
   "pygments_lexer": "ipython3",
   "version": "3.11.5"
  }
 },
 "nbformat": 4,
 "nbformat_minor": 5
}
