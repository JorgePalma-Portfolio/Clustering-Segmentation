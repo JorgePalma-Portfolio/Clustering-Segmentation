{
 "cells": [
  {
   "cell_type": "code",
   "execution_count": 1,
   "id": "ee070536",
   "metadata": {},
   "outputs": [],
   "source": [
    "# Required Libraries\n",
    "\n",
    "import pandas as pd\n",
    "import numpy as np\n",
    "\n",
    "from sklearn.cluster import KMeans\n",
    "\n",
    "from sklearn import metrics\n",
    "\n",
    "import matplotlib.pyplot as plt\n",
    "import sklearn.metrics as sklearn_metrics\n",
    "\n",
    "seed = 22\n",
    "np.random.seed(seed)"
   ]
  },
  {
   "cell_type": "code",
   "execution_count": 2,
   "id": "3e9744e9",
   "metadata": {},
   "outputs": [],
   "source": [
    "def silhouette_score(X, labels):\n",
    "    \"\"\"Wrapper function of Scikit-learn's silhouette_score. The only difference is it doesn't throw an error where there is only one label.\"\"\"\n",
    "  \n",
    "    if len(set(labels)) == 1:\n",
    "        return float(\"NaN\")\n",
    "    else:\n",
    "        return sklearn_metrics.silhouette_score(X, labels)"
   ]
  },
  {
   "cell_type": "code",
   "execution_count": 3,
   "id": "909eea62",
   "metadata": {},
   "outputs": [],
   "source": [
    "data = pd.read_csv('data/project_dataset.csv',low_memory=False)"
   ]
  },
  {
   "cell_type": "code",
   "execution_count": 4,
   "id": "395a4988-fd40-4c1d-8c50-1c4cbb93e58a",
   "metadata": {},
   "outputs": [
    {
     "data": {
      "text/plain": [
       "(48842, 300)"
      ]
     },
     "execution_count": 4,
     "metadata": {},
     "output_type": "execute_result"
    }
   ],
   "source": [
    "data.shape"
   ]
  },
  {
   "cell_type": "code",
   "execution_count": 5,
   "id": "76739018",
   "metadata": {},
   "outputs": [
    {
     "data": {
      "text/html": [
       "<div>\n",
       "<style scoped>\n",
       "    .dataframe tbody tr th:only-of-type {\n",
       "        vertical-align: middle;\n",
       "    }\n",
       "\n",
       "    .dataframe tbody tr th {\n",
       "        vertical-align: top;\n",
       "    }\n",
       "\n",
       "    .dataframe thead th {\n",
       "        text-align: right;\n",
       "    }\n",
       "</style>\n",
       "<table border=\"1\" class=\"dataframe\">\n",
       "  <thead>\n",
       "    <tr style=\"text-align: right;\">\n",
       "      <th></th>\n",
       "      <th>0</th>\n",
       "      <th>1</th>\n",
       "      <th>2</th>\n",
       "      <th>3</th>\n",
       "      <th>4</th>\n",
       "      <th>5</th>\n",
       "      <th>6</th>\n",
       "      <th>7</th>\n",
       "      <th>8</th>\n",
       "      <th>9</th>\n",
       "      <th>...</th>\n",
       "      <th>290</th>\n",
       "      <th>291</th>\n",
       "      <th>292</th>\n",
       "      <th>293</th>\n",
       "      <th>294</th>\n",
       "      <th>295</th>\n",
       "      <th>296</th>\n",
       "      <th>297</th>\n",
       "      <th>298</th>\n",
       "      <th>299</th>\n",
       "    </tr>\n",
       "  </thead>\n",
       "  <tbody>\n",
       "    <tr>\n",
       "      <th>0</th>\n",
       "      <td>0.079357</td>\n",
       "      <td>-0.013016</td>\n",
       "      <td>-0.064891</td>\n",
       "      <td>0.164042</td>\n",
       "      <td>0.109075</td>\n",
       "      <td>0.367152</td>\n",
       "      <td>0.616238</td>\n",
       "      <td>-0.041863</td>\n",
       "      <td>0.281724</td>\n",
       "      <td>-0.073042</td>\n",
       "      <td>...</td>\n",
       "      <td>-0.345417</td>\n",
       "      <td>-0.151840</td>\n",
       "      <td>-0.057761</td>\n",
       "      <td>0.085861</td>\n",
       "      <td>-0.157630</td>\n",
       "      <td>-0.150261</td>\n",
       "      <td>-0.007651</td>\n",
       "      <td>0.148380</td>\n",
       "      <td>0.031270</td>\n",
       "      <td>-0.303689</td>\n",
       "    </tr>\n",
       "    <tr>\n",
       "      <th>1</th>\n",
       "      <td>0.065084</td>\n",
       "      <td>0.079508</td>\n",
       "      <td>0.003485</td>\n",
       "      <td>0.211437</td>\n",
       "      <td>-0.006988</td>\n",
       "      <td>0.095358</td>\n",
       "      <td>0.383679</td>\n",
       "      <td>-0.199834</td>\n",
       "      <td>0.217875</td>\n",
       "      <td>-0.109475</td>\n",
       "      <td>...</td>\n",
       "      <td>-0.566354</td>\n",
       "      <td>0.038567</td>\n",
       "      <td>-0.029137</td>\n",
       "      <td>0.413811</td>\n",
       "      <td>-0.343286</td>\n",
       "      <td>0.103419</td>\n",
       "      <td>-0.532482</td>\n",
       "      <td>0.248444</td>\n",
       "      <td>-0.127649</td>\n",
       "      <td>-0.202146</td>\n",
       "    </tr>\n",
       "    <tr>\n",
       "      <th>2</th>\n",
       "      <td>0.286153</td>\n",
       "      <td>0.138509</td>\n",
       "      <td>0.249087</td>\n",
       "      <td>0.356722</td>\n",
       "      <td>0.252658</td>\n",
       "      <td>0.572814</td>\n",
       "      <td>0.591843</td>\n",
       "      <td>-0.075903</td>\n",
       "      <td>0.224935</td>\n",
       "      <td>0.083812</td>\n",
       "      <td>...</td>\n",
       "      <td>-0.218306</td>\n",
       "      <td>-0.345675</td>\n",
       "      <td>-0.438510</td>\n",
       "      <td>-0.031946</td>\n",
       "      <td>-0.494963</td>\n",
       "      <td>0.240659</td>\n",
       "      <td>-0.375938</td>\n",
       "      <td>0.171001</td>\n",
       "      <td>-0.018633</td>\n",
       "      <td>-0.470645</td>\n",
       "    </tr>\n",
       "    <tr>\n",
       "      <th>3</th>\n",
       "      <td>0.093605</td>\n",
       "      <td>0.349311</td>\n",
       "      <td>0.114927</td>\n",
       "      <td>0.341508</td>\n",
       "      <td>0.034264</td>\n",
       "      <td>0.494125</td>\n",
       "      <td>0.306043</td>\n",
       "      <td>-0.364169</td>\n",
       "      <td>0.197562</td>\n",
       "      <td>0.166602</td>\n",
       "      <td>...</td>\n",
       "      <td>-0.182497</td>\n",
       "      <td>-0.463281</td>\n",
       "      <td>-0.168950</td>\n",
       "      <td>0.161085</td>\n",
       "      <td>-0.201562</td>\n",
       "      <td>0.363891</td>\n",
       "      <td>-0.611611</td>\n",
       "      <td>0.347564</td>\n",
       "      <td>0.153640</td>\n",
       "      <td>-0.257974</td>\n",
       "    </tr>\n",
       "    <tr>\n",
       "      <th>4</th>\n",
       "      <td>-0.004717</td>\n",
       "      <td>0.531995</td>\n",
       "      <td>-0.112232</td>\n",
       "      <td>0.454440</td>\n",
       "      <td>-0.023014</td>\n",
       "      <td>0.034041</td>\n",
       "      <td>0.002723</td>\n",
       "      <td>0.185025</td>\n",
       "      <td>0.136317</td>\n",
       "      <td>0.324738</td>\n",
       "      <td>...</td>\n",
       "      <td>0.167132</td>\n",
       "      <td>-0.346875</td>\n",
       "      <td>0.210444</td>\n",
       "      <td>0.029913</td>\n",
       "      <td>-0.037009</td>\n",
       "      <td>-0.390999</td>\n",
       "      <td>0.053203</td>\n",
       "      <td>-0.082046</td>\n",
       "      <td>0.241039</td>\n",
       "      <td>-0.411027</td>\n",
       "    </tr>\n",
       "  </tbody>\n",
       "</table>\n",
       "<p>5 rows × 300 columns</p>\n",
       "</div>"
      ],
      "text/plain": [
       "          0         1         2         3         4         5         6  \\\n",
       "0  0.079357 -0.013016 -0.064891  0.164042  0.109075  0.367152  0.616238   \n",
       "1  0.065084  0.079508  0.003485  0.211437 -0.006988  0.095358  0.383679   \n",
       "2  0.286153  0.138509  0.249087  0.356722  0.252658  0.572814  0.591843   \n",
       "3  0.093605  0.349311  0.114927  0.341508  0.034264  0.494125  0.306043   \n",
       "4 -0.004717  0.531995 -0.112232  0.454440 -0.023014  0.034041  0.002723   \n",
       "\n",
       "          7         8         9  ...       290       291       292       293  \\\n",
       "0 -0.041863  0.281724 -0.073042  ... -0.345417 -0.151840 -0.057761  0.085861   \n",
       "1 -0.199834  0.217875 -0.109475  ... -0.566354  0.038567 -0.029137  0.413811   \n",
       "2 -0.075903  0.224935  0.083812  ... -0.218306 -0.345675 -0.438510 -0.031946   \n",
       "3 -0.364169  0.197562  0.166602  ... -0.182497 -0.463281 -0.168950  0.161085   \n",
       "4  0.185025  0.136317  0.324738  ...  0.167132 -0.346875  0.210444  0.029913   \n",
       "\n",
       "        294       295       296       297       298       299  \n",
       "0 -0.157630 -0.150261 -0.007651  0.148380  0.031270 -0.303689  \n",
       "1 -0.343286  0.103419 -0.532482  0.248444 -0.127649 -0.202146  \n",
       "2 -0.494963  0.240659 -0.375938  0.171001 -0.018633 -0.470645  \n",
       "3 -0.201562  0.363891 -0.611611  0.347564  0.153640 -0.257974  \n",
       "4 -0.037009 -0.390999  0.053203 -0.082046  0.241039 -0.411027  \n",
       "\n",
       "[5 rows x 300 columns]"
      ]
     },
     "execution_count": 5,
     "metadata": {},
     "output_type": "execute_result"
    }
   ],
   "source": [
    "data.head()"
   ]
  },
  {
   "cell_type": "code",
   "execution_count": 6,
   "id": "3b384f58",
   "metadata": {},
   "outputs": [
    {
     "name": "stdout",
     "output_type": "stream",
     "text": [
      "For n_clusters = 2, silhouette score is: 0.1895\n",
      "For n_clusters = 3, silhouette score is: 0.1225\n",
      "For n_clusters = 4, silhouette score is: 0.1271\n",
      "For n_clusters = 5, silhouette score is: 0.1183\n",
      "For n_clusters = 6, silhouette score is: 0.0920\n",
      "For n_clusters = 7, silhouette score is: 0.0808\n",
      "For n_clusters = 8, silhouette score is: 0.0793\n"
     ]
    }
   ],
   "source": [
    "# find optimal K using silhouette scores\n",
    "silhouette_scores = []\n",
    "\n",
    "K = [2, 3, 4, 5, 6,7,8]\n",
    "for n_clusters in K:\n",
    "    kmeans = KMeans(init=\"random\",n_clusters=n_clusters, random_state=seed, n_init=20, max_iter=500)\n",
    "    cluster_labels = kmeans.fit_predict(data)\n",
    "\n",
    "    silhouette_avg = metrics.silhouette_score(data, cluster_labels,  metric=\"euclidean\",sample_size=500)\n",
    "    \n",
    "    print(f\"For n_clusters = {n_clusters}, silhouette score is: {silhouette_avg:.4f}\")\n",
    "    \n",
    "    silhouette_scores.append(silhouette_avg)"
   ]
  },
  {
   "cell_type": "code",
   "execution_count": 7,
   "id": "1c64f7bd",
   "metadata": {},
   "outputs": [
    {
     "data": {
      "image/png": "[encoded data removed]",
      "text/plain": [
       "<Figure size 640x480 with 1 Axes>"
      ]
     },
     "metadata": {},
     "output_type": "display_data"
    }
   ],
   "source": [
    "plt.plot(K, silhouette_scores, 'bx-')\n",
    "plt.xlabel('No. of clusters')\n",
    "plt.ylabel('Silhouette scores')\n",
    "plt.title('Silhouette Method For Optimal k')\n",
    "plt.show()"
   ]
  },
  {
   "cell_type": "code",
   "execution_count": 8,
   "id": "bd1540a4",
   "metadata": {},
   "outputs": [],
   "source": [
    "best_k = np.nanargmax(silhouette_scores)+2"
   ]
  },
  {
   "cell_type": "code",
   "execution_count": 9,
   "id": "e0097d7c",
   "metadata": {},
   "outputs": [
    {
     "name": "stdout",
     "output_type": "stream",
     "text": [
      "The best K value for silhouette method is: 2\n"
     ]
    }
   ],
   "source": [
    "print(\"The best K value for silhouette method is:\",best_k)"
   ]
  },
  {
   "cell_type": "code",
   "execution_count": 10,
   "id": "449d8d7e",
   "metadata": {},
   "outputs": [],
   "source": [
    "kmeans = KMeans(n_clusters=best_k, random_state=seed, n_init=20, max_iter=500).fit(data)"
   ]
  },
  {
   "cell_type": "code",
   "execution_count": 11,
   "id": "6236b99f",
   "metadata": {},
   "outputs": [],
   "source": [
    "clustered_data =  pd.DataFrame()\n",
    "clustered_data['cluster'] = pd.Categorical(kmeans.labels_)"
   ]
  },
  {
   "cell_type": "code",
   "execution_count": 12,
   "id": "9dcbb3e1-a45d-4ab9-8dd1-62e13887b671",
   "metadata": {},
   "outputs": [],
   "source": [
    "clustered_data = clustered_data.reset_index()\n",
    "clustered_data = clustered_data.rename(columns={\"index\":\"index\"})"
   ]
  },
  {
   "cell_type": "code",
   "execution_count": 13,
   "id": "1e1029c1-563e-4ebd-b043-1a4d01f8ea73",
   "metadata": {},
   "outputs": [
    {
     "data": {
      "text/plain": [
       "(48842, 2)"
      ]
     },
     "execution_count": 13,
     "metadata": {},
     "output_type": "execute_result"
    }
   ],
   "source": [
    "clustered_data.shape"
   ]
  },
  {
   "cell_type": "code",
   "execution_count": 14,
   "id": "3dd06406",
   "metadata": {},
   "outputs": [],
   "source": [
    "clustered_data.to_csv('data/cluster_index_KMeans.csv',index=False)"
   ]
  },
  {
   "cell_type": "code",
   "execution_count": 15,
   "id": "9460e595",
   "metadata": {},
   "outputs": [],
   "source": [
    "centroids = pd.DataFrame(kmeans.cluster_centers_)"
   ]
  },
  {
   "cell_type": "code",
   "execution_count": 16,
   "id": "f58478c7",
   "metadata": {},
   "outputs": [],
   "source": [
    "cols = [*range(300)]\n",
    "cols = map(str, cols)\n",
    "cols = list(cols)\n",
    "cols = map(lambda c : 'col'+c,cols)\n",
    "cols = list(cols)"
   ]
  },
  {
   "cell_type": "code",
   "execution_count": 17,
   "id": "0062a81f",
   "metadata": {},
   "outputs": [],
   "source": [
    "centroids.columns=cols"
   ]
  },
  {
   "cell_type": "code",
   "execution_count": 18,
   "id": "fc0a31cb-79cf-47ec-ae5d-33137db45d1e",
   "metadata": {},
   "outputs": [
    {
     "data": {
      "text/plain": [
       "(2, 300)"
      ]
     },
     "execution_count": 18,
     "metadata": {},
     "output_type": "execute_result"
    }
   ],
   "source": [
    "centroids.shape"
   ]
  },
  {
   "cell_type": "code",
   "execution_count": 19,
   "id": "a00469cd",
   "metadata": {},
   "outputs": [],
   "source": [
    "centroids.to_csv('data/kmeans_centroids.csv',index=False)"
   ]
  },
  {
   "cell_type": "code",
   "execution_count": null,
   "id": "d7bca4c1-6042-433e-ab5e-4e98d1b0fa14",
   "metadata": {},
   "outputs": [],
   "source": []
  }
 ],
 "metadata": {
  "kernelspec": {
   "display_name": "Python 3 (ipykernel)",
   "language": "python",
   "name": "python3"
  },
  "language_info": {
   "codemirror_mode": {
    "name": "ipython",
    "version": 3
   },
   "file_extension": ".py",
   "mimetype": "text/x-python",
   "name": "python",
   "nbconvert_exporter": "python",
   "pygments_lexer": "ipython3",
   "version": "3.11.5"
  }
 },
 "nbformat": 4,
 "nbformat_minor": 5
}
