{
 "cells": [
  {
   "cell_type": "code",
   "execution_count": 1,
   "id": "96c2740c",
   "metadata": {},
   "outputs": [],
   "source": [
    "import warnings\n",
    "warnings.filterwarnings(\"ignore\")\n",
    "\n",
    "import matplotlib.pyplot as plt\n",
    "import pandas as pd\n",
    "import numpy as np\n",
    "\n",
    "from sklearn import preprocessing"
   ]
  },
  {
   "cell_type": "code",
   "execution_count": 2,
   "id": "555a5992-2195-46b4-9542-b4b441cf1978",
   "metadata": {},
   "outputs": [],
   "source": [
    "quantiles = [0, 0.25, 0.5, 0.75, 1.0]\n",
    "ageBins   = [0,20,30,40,50,np.inf]\n",
    "hrsperhrbin = [0,40,50,60,np.inf]"
   ]
  },
  {
   "cell_type": "code",
   "execution_count": 3,
   "id": "9fab8232-7518-4fcc-838c-aec8aa2c70f4",
   "metadata": {},
   "outputs": [],
   "source": [
    "columns = ['index','train','target','agegroup','fnlwgtgroup','workclass','education','maritalstatus','occupation','relationship','race','sex','cptgaingroup','cptlossgroup','nativecountry']\n",
    "finalWeightLabels = ['fnlwgt00','fnlwgt01','fnlwgt02','fnlwgt03','fnlwgt04','fnlwgt05','fnlwgt06','fnlwgt07','fnlwgt08','fnlwgt09']\n",
    "agelabels = ['ageadultunk','ageadult01','ageadult02','ageadult03','ageadult04']\n",
    "capitalGainLabels = ['cptgain00','cptgain01','cptgain02','cptgain03']\n",
    "capitalLossLabels = ['cptloss00','cptloss01','cptloss02','cptloss03']\n",
    "hoursWeekLabels = ['hrsmissing','parttime','fulltime','overtime']"
   ]
  },
  {
   "cell_type": "code",
   "execution_count": 4,
   "id": "909eea62",
   "metadata": {},
   "outputs": [],
   "source": [
    "data = pd.read_csv('data/adult_alldata.csv',low_memory=False)\n",
    "data.drop(['educationnum'],inplace=True,axis=1)"
   ]
  },
  {
   "cell_type": "code",
   "execution_count": 5,
   "id": "4b652496-3747-416a-b375-f4c50c283792",
   "metadata": {},
   "outputs": [],
   "source": [
    "data = data.applymap(lambda x: x.lower().strip() if isinstance(x, str) else x)"
   ]
  },
  {
   "cell_type": "code",
   "execution_count": 6,
   "id": "99b8bf20-1cdb-49e0-84ec-8d23e3a1f205",
   "metadata": {},
   "outputs": [
    {
     "data": {
      "text/html": [
       "<div>\n",
       "<style scoped>\n",
       "    .dataframe tbody tr th:only-of-type {\n",
       "        vertical-align: middle;\n",
       "    }\n",
       "\n",
       "    .dataframe tbody tr th {\n",
       "        vertical-align: top;\n",
       "    }\n",
       "\n",
       "    .dataframe thead th {\n",
       "        text-align: right;\n",
       "    }\n",
       "</style>\n",
       "<table border=\"1\" class=\"dataframe\">\n",
       "  <thead>\n",
       "    <tr style=\"text-align: right;\">\n",
       "      <th></th>\n",
       "      <th>index</th>\n",
       "      <th>train</th>\n",
       "      <th>target</th>\n",
       "      <th>age</th>\n",
       "      <th>workclass</th>\n",
       "      <th>finalweight</th>\n",
       "      <th>education</th>\n",
       "      <th>maritalstatus</th>\n",
       "      <th>occupation</th>\n",
       "      <th>relationship</th>\n",
       "      <th>race</th>\n",
       "      <th>sex</th>\n",
       "      <th>capitalgain</th>\n",
       "      <th>capitalloss</th>\n",
       "      <th>hoursperweek</th>\n",
       "      <th>nativecountry</th>\n",
       "    </tr>\n",
       "  </thead>\n",
       "  <tbody>\n",
       "    <tr>\n",
       "      <th>0</th>\n",
       "      <td>1</td>\n",
       "      <td>1</td>\n",
       "      <td>0</td>\n",
       "      <td>39</td>\n",
       "      <td>state-gov</td>\n",
       "      <td>77516</td>\n",
       "      <td>bachelors</td>\n",
       "      <td>never-married</td>\n",
       "      <td>adm-clerical</td>\n",
       "      <td>not-in-family</td>\n",
       "      <td>white</td>\n",
       "      <td>male</td>\n",
       "      <td>2174</td>\n",
       "      <td>0</td>\n",
       "      <td>40</td>\n",
       "      <td>united-states</td>\n",
       "    </tr>\n",
       "    <tr>\n",
       "      <th>1</th>\n",
       "      <td>2</td>\n",
       "      <td>1</td>\n",
       "      <td>0</td>\n",
       "      <td>50</td>\n",
       "      <td>self-emp-not-inc</td>\n",
       "      <td>83311</td>\n",
       "      <td>bachelors</td>\n",
       "      <td>married-civ-spouse</td>\n",
       "      <td>exec-managerial</td>\n",
       "      <td>husband</td>\n",
       "      <td>white</td>\n",
       "      <td>male</td>\n",
       "      <td>0</td>\n",
       "      <td>0</td>\n",
       "      <td>13</td>\n",
       "      <td>united-states</td>\n",
       "    </tr>\n",
       "    <tr>\n",
       "      <th>2</th>\n",
       "      <td>3</td>\n",
       "      <td>1</td>\n",
       "      <td>0</td>\n",
       "      <td>38</td>\n",
       "      <td>private</td>\n",
       "      <td>215646</td>\n",
       "      <td>hs-grad</td>\n",
       "      <td>divorced</td>\n",
       "      <td>handlers-cleaners</td>\n",
       "      <td>not-in-family</td>\n",
       "      <td>white</td>\n",
       "      <td>male</td>\n",
       "      <td>0</td>\n",
       "      <td>0</td>\n",
       "      <td>40</td>\n",
       "      <td>united-states</td>\n",
       "    </tr>\n",
       "    <tr>\n",
       "      <th>3</th>\n",
       "      <td>4</td>\n",
       "      <td>1</td>\n",
       "      <td>0</td>\n",
       "      <td>53</td>\n",
       "      <td>private</td>\n",
       "      <td>234721</td>\n",
       "      <td>11th</td>\n",
       "      <td>married-civ-spouse</td>\n",
       "      <td>handlers-cleaners</td>\n",
       "      <td>husband</td>\n",
       "      <td>black</td>\n",
       "      <td>male</td>\n",
       "      <td>0</td>\n",
       "      <td>0</td>\n",
       "      <td>40</td>\n",
       "      <td>united-states</td>\n",
       "    </tr>\n",
       "    <tr>\n",
       "      <th>4</th>\n",
       "      <td>5</td>\n",
       "      <td>1</td>\n",
       "      <td>0</td>\n",
       "      <td>28</td>\n",
       "      <td>private</td>\n",
       "      <td>338409</td>\n",
       "      <td>bachelors</td>\n",
       "      <td>married-civ-spouse</td>\n",
       "      <td>prof-specialty</td>\n",
       "      <td>wife</td>\n",
       "      <td>black</td>\n",
       "      <td>female</td>\n",
       "      <td>0</td>\n",
       "      <td>0</td>\n",
       "      <td>40</td>\n",
       "      <td>cuba</td>\n",
       "    </tr>\n",
       "  </tbody>\n",
       "</table>\n",
       "</div>"
      ],
      "text/plain": [
       "   index  train  target  age         workclass  finalweight  education  \\\n",
       "0      1      1       0   39         state-gov        77516  bachelors   \n",
       "1      2      1       0   50  self-emp-not-inc        83311  bachelors   \n",
       "2      3      1       0   38           private       215646    hs-grad   \n",
       "3      4      1       0   53           private       234721       11th   \n",
       "4      5      1       0   28           private       338409  bachelors   \n",
       "\n",
       "        maritalstatus         occupation   relationship   race     sex  \\\n",
       "0       never-married       adm-clerical  not-in-family  white    male   \n",
       "1  married-civ-spouse    exec-managerial        husband  white    male   \n",
       "2            divorced  handlers-cleaners  not-in-family  white    male   \n",
       "3  married-civ-spouse  handlers-cleaners        husband  black    male   \n",
       "4  married-civ-spouse     prof-specialty           wife  black  female   \n",
       "\n",
       "   capitalgain  capitalloss  hoursperweek  nativecountry  \n",
       "0         2174            0            40  united-states  \n",
       "1            0            0            13  united-states  \n",
       "2            0            0            40  united-states  \n",
       "3            0            0            40  united-states  \n",
       "4            0            0            40           cuba  "
      ]
     },
     "execution_count": 6,
     "metadata": {},
     "output_type": "execute_result"
    }
   ],
   "source": [
    "data.head()"
   ]
  },
  {
   "cell_type": "code",
   "execution_count": 7,
   "id": "5b6a148b-9b55-4cd1-a46e-c577b67671fe",
   "metadata": {},
   "outputs": [],
   "source": [
    "# Age\n",
    "data['agegroup'] = pd.cut(data.age,bins=ageBins,labels=agelabels,retbins=False)\n",
    "data.drop(['age'],inplace=True,axis=1)"
   ]
  },
  {
   "cell_type": "code",
   "execution_count": 8,
   "id": "3c9d8af4-ac58-4c68-9a92-91355497ee02",
   "metadata": {},
   "outputs": [],
   "source": [
    "## Work Class\n",
    "data.workclass[data.workclass == '?'] = 'wcmissing'"
   ]
  },
  {
   "cell_type": "code",
   "execution_count": 9,
   "id": "3174a228-376b-47aa-bbe9-9a5815af625c",
   "metadata": {},
   "outputs": [],
   "source": [
    "## Final Weight\n",
    "data['fnlwgtgroup'] = pd.qcut(data.finalweight, q=10, labels=finalWeightLabels)\n",
    "data.drop(['finalweight'],inplace=True,axis=1)"
   ]
  },
  {
   "cell_type": "code",
   "execution_count": 10,
   "id": "9d5f062d-22b5-4abb-953b-4750b9304447",
   "metadata": {},
   "outputs": [],
   "source": [
    "data.occupation[data.occupation == '?'] = 'occpmissing'"
   ]
  },
  {
   "cell_type": "code",
   "execution_count": 11,
   "id": "51fc516c-a331-497d-8264-8b13d2b4ecc6",
   "metadata": {},
   "outputs": [],
   "source": [
    "data['cptgaingroup'] = pd.cut(data.capitalgain,4, labels=capitalGainLabels)\n",
    "data.drop(['capitalgain'],inplace=True,axis=1)"
   ]
  },
  {
   "cell_type": "code",
   "execution_count": 12,
   "id": "f8a055ae-1af8-4812-b101-9154356807f8",
   "metadata": {},
   "outputs": [],
   "source": [
    "data['cptlossgroup'] = pd.cut(data.capitalloss,4, labels=capitalLossLabels)\n",
    "data.drop(['capitalloss'],inplace=True,axis=1)"
   ]
  },
  {
   "cell_type": "code",
   "execution_count": 13,
   "id": "8f9ad8f2-8838-4fd8-b139-988779801112",
   "metadata": {},
   "outputs": [],
   "source": [
    "data['hrsgroup'] = pd.cut(data.hoursperweek,bins=hrsperhrbin,labels=hoursWeekLabels)\n",
    "data.drop(['hoursperweek'],inplace=True,axis=1)"
   ]
  },
  {
   "cell_type": "code",
   "execution_count": 14,
   "id": "32e30c5e-9199-4d19-a15e-4eecfd45e867",
   "metadata": {},
   "outputs": [],
   "source": [
    "data.nativecountry[data.nativecountry == '?'] = 'countrymissing'"
   ]
  },
  {
   "cell_type": "code",
   "execution_count": 15,
   "id": "1f6f5b73",
   "metadata": {},
   "outputs": [
    {
     "data": {
      "text/html": [
       "<div>\n",
       "<style scoped>\n",
       "    .dataframe tbody tr th:only-of-type {\n",
       "        vertical-align: middle;\n",
       "    }\n",
       "\n",
       "    .dataframe tbody tr th {\n",
       "        vertical-align: top;\n",
       "    }\n",
       "\n",
       "    .dataframe thead th {\n",
       "        text-align: right;\n",
       "    }\n",
       "</style>\n",
       "<table border=\"1\" class=\"dataframe\">\n",
       "  <thead>\n",
       "    <tr style=\"text-align: right;\">\n",
       "      <th></th>\n",
       "      <th>index</th>\n",
       "      <th>train</th>\n",
       "      <th>target</th>\n",
       "      <th>workclass</th>\n",
       "      <th>education</th>\n",
       "      <th>maritalstatus</th>\n",
       "      <th>occupation</th>\n",
       "      <th>relationship</th>\n",
       "      <th>race</th>\n",
       "      <th>sex</th>\n",
       "      <th>nativecountry</th>\n",
       "      <th>agegroup</th>\n",
       "      <th>fnlwgtgroup</th>\n",
       "      <th>cptgaingroup</th>\n",
       "      <th>cptlossgroup</th>\n",
       "      <th>hrsgroup</th>\n",
       "    </tr>\n",
       "  </thead>\n",
       "  <tbody>\n",
       "    <tr>\n",
       "      <th>0</th>\n",
       "      <td>1</td>\n",
       "      <td>1</td>\n",
       "      <td>0</td>\n",
       "      <td>state-gov</td>\n",
       "      <td>bachelors</td>\n",
       "      <td>never-married</td>\n",
       "      <td>adm-clerical</td>\n",
       "      <td>not-in-family</td>\n",
       "      <td>white</td>\n",
       "      <td>male</td>\n",
       "      <td>united-states</td>\n",
       "      <td>ageadult02</td>\n",
       "      <td>fnlwgt01</td>\n",
       "      <td>cptgain00</td>\n",
       "      <td>cptloss00</td>\n",
       "      <td>hrsmissing</td>\n",
       "    </tr>\n",
       "    <tr>\n",
       "      <th>1</th>\n",
       "      <td>2</td>\n",
       "      <td>1</td>\n",
       "      <td>0</td>\n",
       "      <td>self-emp-not-inc</td>\n",
       "      <td>bachelors</td>\n",
       "      <td>married-civ-spouse</td>\n",
       "      <td>exec-managerial</td>\n",
       "      <td>husband</td>\n",
       "      <td>white</td>\n",
       "      <td>male</td>\n",
       "      <td>united-states</td>\n",
       "      <td>ageadult03</td>\n",
       "      <td>fnlwgt01</td>\n",
       "      <td>cptgain00</td>\n",
       "      <td>cptloss00</td>\n",
       "      <td>hrsmissing</td>\n",
       "    </tr>\n",
       "    <tr>\n",
       "      <th>2</th>\n",
       "      <td>3</td>\n",
       "      <td>1</td>\n",
       "      <td>0</td>\n",
       "      <td>private</td>\n",
       "      <td>hs-grad</td>\n",
       "      <td>divorced</td>\n",
       "      <td>handlers-cleaners</td>\n",
       "      <td>not-in-family</td>\n",
       "      <td>white</td>\n",
       "      <td>male</td>\n",
       "      <td>united-states</td>\n",
       "      <td>ageadult02</td>\n",
       "      <td>fnlwgt06</td>\n",
       "      <td>cptgain00</td>\n",
       "      <td>cptloss00</td>\n",
       "      <td>hrsmissing</td>\n",
       "    </tr>\n",
       "    <tr>\n",
       "      <th>3</th>\n",
       "      <td>4</td>\n",
       "      <td>1</td>\n",
       "      <td>0</td>\n",
       "      <td>private</td>\n",
       "      <td>11th</td>\n",
       "      <td>married-civ-spouse</td>\n",
       "      <td>handlers-cleaners</td>\n",
       "      <td>husband</td>\n",
       "      <td>black</td>\n",
       "      <td>male</td>\n",
       "      <td>united-states</td>\n",
       "      <td>ageadult04</td>\n",
       "      <td>fnlwgt07</td>\n",
       "      <td>cptgain00</td>\n",
       "      <td>cptloss00</td>\n",
       "      <td>hrsmissing</td>\n",
       "    </tr>\n",
       "    <tr>\n",
       "      <th>4</th>\n",
       "      <td>5</td>\n",
       "      <td>1</td>\n",
       "      <td>0</td>\n",
       "      <td>private</td>\n",
       "      <td>bachelors</td>\n",
       "      <td>married-civ-spouse</td>\n",
       "      <td>prof-specialty</td>\n",
       "      <td>wife</td>\n",
       "      <td>black</td>\n",
       "      <td>female</td>\n",
       "      <td>cuba</td>\n",
       "      <td>ageadult01</td>\n",
       "      <td>fnlwgt09</td>\n",
       "      <td>cptgain00</td>\n",
       "      <td>cptloss00</td>\n",
       "      <td>hrsmissing</td>\n",
       "    </tr>\n",
       "  </tbody>\n",
       "</table>\n",
       "</div>"
      ],
      "text/plain": [
       "   index  train  target         workclass  education       maritalstatus  \\\n",
       "0      1      1       0         state-gov  bachelors       never-married   \n",
       "1      2      1       0  self-emp-not-inc  bachelors  married-civ-spouse   \n",
       "2      3      1       0           private    hs-grad            divorced   \n",
       "3      4      1       0           private       11th  married-civ-spouse   \n",
       "4      5      1       0           private  bachelors  married-civ-spouse   \n",
       "\n",
       "          occupation   relationship   race     sex  nativecountry    agegroup  \\\n",
       "0       adm-clerical  not-in-family  white    male  united-states  ageadult02   \n",
       "1    exec-managerial        husband  white    male  united-states  ageadult03   \n",
       "2  handlers-cleaners  not-in-family  white    male  united-states  ageadult02   \n",
       "3  handlers-cleaners        husband  black    male  united-states  ageadult04   \n",
       "4     prof-specialty           wife  black  female           cuba  ageadult01   \n",
       "\n",
       "  fnlwgtgroup cptgaingroup cptlossgroup    hrsgroup  \n",
       "0    fnlwgt01    cptgain00    cptloss00  hrsmissing  \n",
       "1    fnlwgt01    cptgain00    cptloss00  hrsmissing  \n",
       "2    fnlwgt06    cptgain00    cptloss00  hrsmissing  \n",
       "3    fnlwgt07    cptgain00    cptloss00  hrsmissing  \n",
       "4    fnlwgt09    cptgain00    cptloss00  hrsmissing  "
      ]
     },
     "execution_count": 15,
     "metadata": {},
     "output_type": "execute_result"
    }
   ],
   "source": [
    "data.head()"
   ]
  },
  {
   "cell_type": "code",
   "execution_count": 16,
   "id": "7f15f98c",
   "metadata": {},
   "outputs": [
    {
     "data": {
      "text/plain": [
       "(48842, 16)"
      ]
     },
     "execution_count": 16,
     "metadata": {},
     "output_type": "execute_result"
    }
   ],
   "source": [
    "data.shape"
   ]
  },
  {
   "cell_type": "code",
   "execution_count": 17,
   "id": "aa4f6922-0132-467d-8dd7-5665f8c32fbe",
   "metadata": {},
   "outputs": [
    {
     "data": {
      "text/plain": [
       "13"
      ]
     },
     "execution_count": 17,
     "metadata": {},
     "output_type": "execute_result"
    }
   ],
   "source": [
    "data.shape[1]-3"
   ]
  },
  {
   "cell_type": "code",
   "execution_count": 18,
   "id": "5c51e99e",
   "metadata": {},
   "outputs": [],
   "source": [
    "data[columns].to_csv('data/train_data_cat.csv',index=False)"
   ]
  },
  {
   "cell_type": "code",
   "execution_count": null,
   "id": "992fd503-7eeb-45bc-9a5e-199e0a0fc4ae",
   "metadata": {},
   "outputs": [],
   "source": []
  }
 ],
 "metadata": {
  "kernelspec": {
   "display_name": "Python 3 (ipykernel)",
   "language": "python",
   "name": "python3"
  },
  "language_info": {
   "codemirror_mode": {
    "name": "ipython",
    "version": 3
   },
   "file_extension": ".py",
   "mimetype": "text/x-python",
   "name": "python",
   "nbconvert_exporter": "python",
   "pygments_lexer": "ipython3",
   "version": "3.11.5"
  }
 },
 "nbformat": 4,
 "nbformat_minor": 5
}
