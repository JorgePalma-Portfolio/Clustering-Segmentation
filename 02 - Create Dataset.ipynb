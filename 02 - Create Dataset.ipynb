{
 "cells": [
  {
   "cell_type": "code",
   "execution_count": 1,
   "id": "399dd075",
   "metadata": {},
   "outputs": [],
   "source": [
    "# Requires libraries\n",
    "import numpy as np\n",
    "import pandas as pd\n",
    "import pickle as pk"
   ]
  },
  {
   "cell_type": "code",
   "execution_count": 2,
   "id": "fffd5620-49b4-43fe-87ce-397e7ce50140",
   "metadata": {},
   "outputs": [],
   "source": [
    "# Dataset columns\n",
    "datacols = ['target','agegroup','fnlwgtgroup','workclass','education','maritalstatus','occupation','relationship','race','sex','cptgaingroup','cptlossgroup','hrsgroup','nativecountry']"
   ]
  },
  {
   "cell_type": "code",
   "execution_count": 3,
   "id": "a34a9c56",
   "metadata": {},
   "outputs": [],
   "source": [
    "embeddings = np.array(pd.read_csv('data/embeddings_model_w2v_v3.csv', header=None))"
   ]
  },
  {
   "cell_type": "code",
   "execution_count": 4,
   "id": "c43fd327",
   "metadata": {},
   "outputs": [],
   "source": [
    "with open('data/word_to_index_v3.pkl', 'rb') as file:\n",
    "    word_to_index = pk.load(file)"
   ]
  },
  {
   "cell_type": "code",
   "execution_count": 5,
   "id": "8d9e4f9b",
   "metadata": {},
   "outputs": [],
   "source": [
    "data = pd.read_csv('data/train_data_cat.csv')\n",
    "data = data[datacols]"
   ]
  },
  {
   "cell_type": "code",
   "execution_count": 6,
   "id": "99b542c9",
   "metadata": {},
   "outputs": [],
   "source": [
    "# Create the dataset for the clustering process\n",
    "# Each token in ecah line is retrieved and added to have the row embeddings \n",
    "\n",
    "dataset = []\n",
    "\n",
    "for index, row in data.iterrows():\n",
    "    person = np.zeros((300))\n",
    "    for i in range(data.shape[1]):\n",
    "        token = row.iloc[i].lower()\n",
    "        idx = word_to_index[token]\n",
    "        person = person + embeddings[idx,:].reshape(300)      \n",
    "        \n",
    "    dataset.append(person)   "
   ]
  },
  {
   "cell_type": "code",
   "execution_count": 7,
   "id": "b0847f2e",
   "metadata": {},
   "outputs": [],
   "source": [
    "person = pd.DataFrame(dataset)\n",
    "del dataset"
   ]
  },
  {
   "cell_type": "code",
   "execution_count": 8,
   "id": "53848515-321f-402c-a86c-3c51176b8250",
   "metadata": {},
   "outputs": [
    {
     "data": {
      "text/plain": [
       "(48842, 300)"
      ]
     },
     "execution_count": 8,
     "metadata": {},
     "output_type": "execute_result"
    }
   ],
   "source": [
    "person.shape"
   ]
  },
  {
   "cell_type": "code",
   "execution_count": 9,
   "id": "a84b1e84",
   "metadata": {},
   "outputs": [],
   "source": [
    "person.to_csv('data/project_dataset.csv',index=False)"
   ]
  },
  {
   "cell_type": "code",
   "execution_count": null,
   "id": "d592035c-157f-49b5-a255-123a51c0d1d6",
   "metadata": {},
   "outputs": [],
   "source": []
  }
 ],
 "metadata": {
  "kernelspec": {
   "display_name": "Python 3 (ipykernel)",
   "language": "python",
   "name": "python3"
  },
  "language_info": {
   "codemirror_mode": {
    "name": "ipython",
    "version": 3
   },
   "file_extension": ".py",
   "mimetype": "text/x-python",
   "name": "python",
   "nbconvert_exporter": "python",
   "pygments_lexer": "ipython3",
   "version": "3.11.5"
  }
 },
 "nbformat": 4,
 "nbformat_minor": 5
}
